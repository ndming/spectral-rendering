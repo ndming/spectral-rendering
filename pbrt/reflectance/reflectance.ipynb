{
 "cells": [
  {
   "cell_type": "code",
   "execution_count": 2,
   "outputs": [
    {
     "name": "stdout",
     "output_type": "stream",
     "text": [
      "File number mismatch: 3201 files in the index, 3107 files on disk\n",
      "3107 unique files in the index, 3107 unique files on disk\n",
      "\n",
      "database\\data-nk\\main\\Hg\\Inagaki.yml appears 3 times in the index\n",
      "database\\data-nk\\main\\SiO2\\Malitson.yml appears 3 times in the index\n",
      "database\\data-nk\\organic\\C3H8O3 - glycerol\\Gupta.yml appears 3 times in the index\n",
      "database\\data-nk\\glass\\schott\\N-BK7.yml appears 3 times in the index\n",
      "database\\data-nk\\glass\\schott\\N-BAF10.yml appears 3 times in the index\n",
      "database\\data-nk\\main\\Ag\\Rakic-BB.yml appears 2 times in the index\n",
      "database\\data-nk\\main\\Al\\Rakic-BB.yml appears 2 times in the index\n",
      "database\\data-nk\\main\\Au\\Rakic-BB.yml appears 2 times in the index\n",
      "database\\data-nk\\main\\C\\Phillip.yml appears 2 times in the index\n",
      "database\\data-nk\\main\\C\\Taylor.yml appears 2 times in the index\n",
      "database\\data-nk\\main\\NaCl\\Li.yml appears 2 times in the index\n",
      "database\\data-nk\\main\\Cu\\Rakic-BB.yml appears 2 times in the index\n",
      "database\\data-nk\\main\\Fe\\Johnson.yml appears 2 times in the index\n",
      "database\\data-nk\\main\\Ge\\Aspnes.yml appears 2 times in the index\n",
      "database\\data-nk\\main\\Al2O3\\Malitson-o.yml appears 2 times in the index\n",
      "database\\data-nk\\main\\H2O\\Hale.yml appears 2 times in the index\n",
      "database\\data-nk\\main\\H2O\\Warren-2008.yml appears 2 times in the index\n",
      "database\\data-nk\\main\\D2O\\Sarkar.yml appears 2 times in the index\n",
      "database\\data-nk\\main\\ZnO\\Aguilar.yml appears 2 times in the index\n",
      "database\\data-nk\\other\\mixed crystals\\ZrO2-Y2O3\\Wood.yml appears 2 times in the index\n",
      "database\\data-nk\\main\\Pb\\Golovashkin-293K.yml appears 2 times in the index\n",
      "database\\data-nk\\main\\Pt\\Rakic-BB.yml appears 2 times in the index\n",
      "database\\data-nk\\other\\semiconductor alloys\\AlSb-GaSb\\Ferrini-0.yml appears 2 times in the index\n",
      "database\\data-nk\\main\\Si\\Vuye-20C.yml appears 2 times in the index\n",
      "database\\data-nk\\main\\Ti\\Johnson.yml appears 2 times in the index\n",
      "database\\data-nk\\organic\\C6H6 - benzene\\Moutzouris.yml appears 2 times in the index\n",
      "database\\data-nk\\organic\\C3H6O - acetone\\Rheims.yml appears 2 times in the index\n",
      "database\\data-nk\\organic\\(C5H8O2)n - poly(methyl methacrylate)\\Sultanova.yml appears 2 times in the index\n",
      "database\\data-nk\\organic\\(C6H9NO)n - polyvinylpyrrolidone\\Konig.yml appears 2 times in the index\n",
      "database\\data-nk\\organic\\(C6H10O5)n - cellulose\\Sultanova.yml appears 2 times in the index\n",
      "database\\data-nk\\organic\\(C8H8)n - polystyren\\Sultanova.yml appears 2 times in the index\n",
      "database\\data-nk\\organic\\(C16H14O3)n - polycarbonate\\Sultanova.yml appears 2 times in the index\n",
      "database\\data-nk\\glass\\ohara\\S-BSL7.yml appears 2 times in the index\n",
      "database\\data-nk\\glass\\hikari\\J-BK7A.yml appears 2 times in the index\n",
      "database\\data-nk\\glass\\cdgm\\H-K9L.yml appears 2 times in the index\n",
      "database\\data-nk\\glass\\hoya\\BSC7.yml appears 2 times in the index\n",
      "database\\data-nk\\glass\\sumita\\K-BK7.yml appears 2 times in the index\n",
      "database\\data-nk\\glass\\lzos\\K8.yml appears 2 times in the index\n",
      "database\\data-nk\\glass\\ohara\\S-BAH10.yml appears 2 times in the index\n",
      "database\\data-nk\\glass\\hikari\\J-BAF10.yml appears 2 times in the index\n",
      "database\\data-nk\\glass\\cdgm\\H-ZBAF52.yml appears 2 times in the index\n",
      "database\\data-nk\\glass\\hoya\\BAF10.yml appears 2 times in the index\n",
      "database\\data-nk\\glass\\schott\\N-BAK1.yml appears 2 times in the index\n",
      "database\\data-nk\\glass\\ohara\\S-BAL11.yml appears 2 times in the index\n",
      "database\\data-nk\\glass\\hikari\\J-BAK1.yml appears 2 times in the index\n",
      "database\\data-nk\\glass\\cdgm\\H-BAK8.yml appears 2 times in the index\n",
      "database\\data-nk\\glass\\schott\\N-FK51A.yml appears 2 times in the index\n",
      "database\\data-nk\\glass\\schott\\N-LASF9.yml appears 2 times in the index\n",
      "database\\data-nk\\glass\\schott\\N-SF5.yml appears 2 times in the index\n",
      "database\\data-nk\\glass\\hikari\\J-SF5.yml appears 2 times in the index\n",
      "database\\data-nk\\glass\\cdgm\\ZF2.yml appears 2 times in the index\n",
      "database\\data-nk\\glass\\hoya\\E-FD5.yml appears 2 times in the index\n",
      "database\\data-nk\\glass\\schott\\N-SF10.yml appears 2 times in the index\n",
      "database\\data-nk\\glass\\hikari\\J-SF10.yml appears 2 times in the index\n",
      "database\\data-nk\\glass\\cdgm\\ZF4.yml appears 2 times in the index\n",
      "database\\data-nk\\glass\\hoya\\E-FD10.yml appears 2 times in the index\n",
      "database\\data-nk\\glass\\schott\\N-SF11.yml appears 2 times in the index\n",
      "database\\data-nk\\glass\\hikari\\J-SF11.yml appears 2 times in the index\n",
      "database\\data-nk\\glass\\cdgm\\ZF13.yml appears 2 times in the index\n",
      "database\\data-nk\\glass\\sumita\\K-SFLD11.yml appears 2 times in the index\n",
      "database\\data-nk\\glass\\misc\\soda-lime\\Rubin-clear.yml appears 2 times in the index\n",
      "database\\data-nk\\glass\\misc\\soda-lime\\Rubin-bronze.yml appears 2 times in the index\n",
      "database\\data-nk\\glass\\misc\\soda-lime\\Rubin-grey.yml appears 2 times in the index\n",
      "database\\data-nk\\glass\\misc\\soda-lime\\Rubin-green.yml appears 2 times in the index\n",
      "database\\data-nk\\glass\\hikari\\Q-SK15S.yml appears 2 times in the index\n",
      "database\\data-nk\\glass\\hikari\\Q-SK52S.yml appears 2 times in the index\n",
      "database\\data-nk\\glass\\hikari\\Q-SK55S.yml appears 2 times in the index\n",
      "database\\data-nk\\glass\\hikari\\Q-FK01S.yml appears 2 times in the index\n",
      "database\\data-nk\\glass\\hikari\\Q-FKH2S.yml appears 2 times in the index\n",
      "database\\data-nk\\glass\\hikari\\Q-LAK52S.yml appears 2 times in the index\n",
      "database\\data-nk\\glass\\hikari\\Q-LAK53S.yml appears 2 times in the index\n",
      "database\\data-nk\\glass\\hikari\\Q-PSKH1S.yml appears 2 times in the index\n",
      "database\\data-nk\\glass\\hikari\\Q-PSKH2S.yml appears 2 times in the index\n",
      "database\\data-nk\\glass\\hikari\\Q-PSKH4S.yml appears 2 times in the index\n",
      "database\\data-nk\\glass\\hikari\\Q-SF6S.yml appears 2 times in the index\n",
      "database\\data-nk\\glass\\hikari\\Q-LAF010S.yml appears 2 times in the index\n",
      "database\\data-nk\\glass\\hikari\\Q-LASF03S.yml appears 2 times in the index\n",
      "database\\data-nk\\glass\\hikari\\Q-LASFH11S.yml appears 2 times in the index\n",
      "database\\data-nk\\glass\\hikari\\Q-LASFH12S.yml appears 2 times in the index\n",
      "database\\data-nk\\glass\\hikari\\Q-LASFH58S.yml appears 2 times in the index\n",
      "database\\data-nk\\glass\\hikari\\Q-LASFH59S.yml appears 2 times in the index\n",
      "database\\data-nk\\glass\\cdgm\\H-KF6.yml appears 2 times in the index\n",
      "database\\data-nk\\other\\alloys\\Cu-Zn\\Querry-Cu70Zn30.yml appears 2 times in the index\n",
      "database\\data-nk\\other\\commercial plastics\\NAS-21\\Sultanova.yml appears 2 times in the index\n",
      "database\\data-nk\\other\\commercial plastics\\Optorez1330\\Sultanova.yml appears 2 times in the index\n",
      "database\\data-nk\\other\\commercial plastics\\ZeonexE48R\\Sultanova.yml appears 2 times in the index\n",
      "database\\data-nk\\other\\soots\\acetylene soot\\Dalzell.yml appears 2 times in the index\n",
      "database\\data-nk\\other\\soots\\propane soot\\Dalzell.yml appears 2 times in the index\n",
      "database\\data-nk\\other\\soots\\diesel soot\\Querry-NMSU.yml appears 2 times in the index\n",
      "\n",
      "Files in one set but not the other: \n",
      "\n",
      "All files of the index have their counterpart on disk.\n"
     ]
    }
   ],
   "source": [
    "%run -m check_db database"
   ],
   "metadata": {
    "collapsed": false,
    "ExecuteTime": {
     "end_time": "2023-11-14T15:19:28.400712400Z",
     "start_time": "2023-11-14T15:19:26.710721800Z"
    }
   },
   "id": "f62c1c54be66a7e1"
  },
  {
   "cell_type": "code",
   "execution_count": 3,
   "outputs": [],
   "source": [
    "from ldbb import LDBB\n",
    "from reflectance import *\n",
    "import numpy as np\n",
    "import matplotlib.pyplot as plt"
   ],
   "metadata": {
    "collapsed": false,
    "ExecuteTime": {
     "end_time": "2023-11-14T15:19:28.990773Z",
     "start_time": "2023-11-14T15:19:28.399222200Z"
    }
   },
   "id": "917084d02cde9204"
  },
  {
   "cell_type": "code",
   "execution_count": 4,
   "outputs": [],
   "source": [
    "lambda_min = 10      # nm\n",
    "lambda_max = 1200    # nm\n",
    "delta_lambda = 1\n",
    "incident_angle = 0  # degree\n",
    "\n",
    "visible_min = 360    # nm\n",
    "visible_max = 830    # nm\n",
    "\n",
    "# Available options: 'Ag', 'Au', 'Cu', 'Al', 'Be', 'Cr', 'Ni', 'Pd', 'Pt', 'Ti', 'W'\n",
    "material = 'Al'"
   ],
   "metadata": {
    "collapsed": false,
    "ExecuteTime": {
     "end_time": "2023-11-14T15:19:28.999421800Z",
     "start_time": "2023-11-14T15:19:28.993239900Z"
    }
   },
   "id": "7be0ad344da910b2"
  },
  {
   "cell_type": "code",
   "execution_count": 5,
   "outputs": [
    {
     "data": {
      "text/plain": "[<matplotlib.lines.Line2D at 0x1fa5f6ac950>]"
     },
     "execution_count": 5,
     "metadata": {},
     "output_type": "execute_result"
    },
    {
     "data": {
      "text/plain": "<Figure size 1200x600 with 1 Axes>",
      "image/png": "[encoded data removed]"
     },
     "metadata": {},
     "output_type": "display_data"
    }
   ],
   "source": [
    "lambdas = np.arange(lambda_min, lambda_max, delta_lambda)\n",
    "idxMat = np.sqrt(LDBB(material,'LD', lambdas * 1e-9))\n",
    "idxEnv = np.repeat(1, len(idxMat))\n",
    "refl = spectral_reflectance(idxMat, idxEnv, incident_angle)\n",
    "\n",
    "fig, ax = plt.subplots(figsize=(12, 6))\n",
    "ax.set_title(f\"Spectral Reflectance of {material} (Light incidence at {incident_angle} degree)\")\n",
    "ax.set_xlabel(\"Wavelength (nm)\")\n",
    "ax.set_ylim(0, 1)\n",
    "ax.plot(lambdas, refl)\n",
    "\n",
    "min_idx = int((visible_min - lambda_min) / delta_lambda)\n",
    "max_idx = int((visible_max - lambda_min) / delta_lambda)\n",
    "ax.plot(lambdas[min_idx:max_idx+1], refl[min_idx:max_idx+1], color='#FF5500')"
   ],
   "metadata": {
    "collapsed": false,
    "ExecuteTime": {
     "end_time": "2023-11-14T15:19:29.231551700Z",
     "start_time": "2023-11-14T15:19:28.993795900Z"
    }
   },
   "id": "21ba5431041ef340"
  },
  {
   "cell_type": "code",
   "execution_count": 6,
   "outputs": [],
   "source": [
    "file = f\"out/{material}_inc{incident_angle}.csv\"\n",
    "df = np.transpose(np.vstack((lambdas[min_idx:max_idx+1], refl[min_idx:max_idx+1])))\n",
    "np.savetxt(file, df, fmt=\"%d, %.18f\", comments=\"\")"
   ],
   "metadata": {
    "collapsed": false,
    "ExecuteTime": {
     "end_time": "2023-11-14T15:19:29.242462400Z",
     "start_time": "2023-11-14T15:19:29.232552300Z"
    }
   },
   "id": "fa773375fabce923"
  },
  {
   "cell_type": "code",
   "execution_count": 17,
   "outputs": [],
   "source": [
    "idxPVC = np.array([\n",
    " 1.56135 + 2.72e-06j,\n",
    " 1.55983 + 2.35e-06j,\n",
    " 1.55812 + 2.16e-06j,\n",
    " 1.55625 + 1.96e-06j,\n",
    " 1.55491 + 1.82e-06j,\n",
    " 1.55388 + 1.71e-06j,\n",
    " 1.55236 + 1.64e-06j,\n",
    " 1.55145 + 1.60e-06j,\n",
    " 1.55010 + 1.58e-06j,\n",
    " 1.54940 + 1.61e-06j,\n",
    " 1.54850 + 1.67e-06j,\n",
    " 1.54761 + 1.75e-06j,\n",
    " 1.54692 + 1.83e-06j,\n",
    " 1.54626 + 1.96e-06j,\n",
    " 1.54533 + 2.09e-06j,\n",
    " 1.54493 + 2.17e-06j,\n",
    " 1.54389 + 2.20e-06j,\n",
    " 1.54325 + 2.27e-06j,\n",
    " 1.54275 + 2.34e-06j,\n",
    " 1.54238 + 2.30e-06j,\n",
    " 1.54137 + 2.15e-06j,\n",
    " 1.54114 + 2.00e-06j,\n",
    " 1.54073 + 1.90e-06j,\n",
    " 1.54004 + 1.80e-06j,\n",
    " 1.53987 + 1.68e-06j,\n",
    " 1.53987 + 1.54e-06j,\n",
    " 1.53946 + 1.44e-06j,\n",
    " 1.53880 + 1.29e-06j,\n",
    " 1.53812 + 1.14e-06j,\n",
    " 1.53791 + 1.01e-06j,\n",
    " 1.53754 + 8.96e-07j,\n",
    " 1.53727 + 8.02e-07j,\n",
    " 1.53732 + 7.67e-07j,\n",
    " 1.53674 + 7.15e-07j,\n",
    " 1.53593 + 7.07e-07j,\n",
    " 1.53544 + 7.06e-07j,\n",
    " 1.53569 + 6.66e-07j,\n",
    " 1.53528 + 6.60e-07j,\n",
    " 1.53526 + 6.47e-07j,\n",
    " 1.53468 + 6.13e-07j,\n",
    " 1.53569 + 6.16e-07j,\n",
    " 1.53552 + 6.26e-07j,\n",
    " 1.53471 + 5.30e-07j,\n",
    " 1.53519 + 5.22e-07j\n",
    "])\n",
    "idxEnvPVC = np.repeat(1, len(idxPVC))\n",
    "pvc_inc = 45\n",
    "\n",
    "refl_pvc = spectral_reflectance(idxPVC, idxEnvPVC, pvc_inc)\n",
    "lambdasPVC = np.arange(400, 840, 10)\n",
    "\n",
    "filePVC = f\"out/PVC_inc{pvc_inc}.csv\"\n",
    "dfPVC = np.transpose(np.vstack((lambdasPVC, refl_pvc)))\n",
    "np.savetxt(filePVC, dfPVC, fmt=\"%d, %.18f\", comments=\"\")"
   ],
   "metadata": {
    "collapsed": false,
    "ExecuteTime": {
     "end_time": "2023-11-14T16:22:00.314813600Z",
     "start_time": "2023-11-14T16:22:00.309253600Z"
    }
   },
   "id": "76130c3e09652ba7"
  },
  {
   "cell_type": "code",
   "execution_count": 18,
   "outputs": [],
   "source": [
    "filePVC_t = f\"out/PVC_inc{pvc_inc}_t.csv\"\n",
    "dfPVC_t = np.transpose(np.vstack((lambdasPVC, 1 - refl_pvc)))\n",
    "np.savetxt(filePVC_t, dfPVC_t, fmt=\"%d, %.18f\", comments=\"\")"
   ],
   "metadata": {
    "collapsed": false,
    "ExecuteTime": {
     "end_time": "2023-11-14T16:22:02.231560100Z",
     "start_time": "2023-11-14T16:22:02.223306700Z"
    }
   },
   "id": "7d51833564b3fef5"
  }
 ],
 "metadata": {
  "kernelspec": {
   "display_name": "Python 3",
   "language": "python",
   "name": "python3"
  },
  "language_info": {
   "codemirror_mode": {
    "name": "ipython",
    "version": 2
   },
   "file_extension": ".py",
   "mimetype": "text/x-python",
   "name": "python",
   "nbconvert_exporter": "python",
   "pygments_lexer": "ipython2",
   "version": "2.7.6"
  }
 },
 "nbformat": 4,
 "nbformat_minor": 5
}
